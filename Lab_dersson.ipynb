{
 "cells": [
  {
   "cell_type": "code",
   "execution_count": 1,
   "id": "18fc3b2e-10bd-45c1-83a1-21c343a45212",
   "metadata": {},
   "outputs": [],
   "source": [
    "import random as rd\n",
    "import pandas as pd \n",
    "import numpy as np\n",
    "from sklearn.preprocessing import LabelEncoder"
   ]
  },
  {
   "cell_type": "code",
   "execution_count": 2,
   "id": "c1e91068-f3e7-46e5-875c-bc9e3abf16fe",
   "metadata": {},
   "outputs": [],
   "source": [
    "data =  {'year': [2018, 2015, 2020, 2012],\n",
    "        'km': [50000, 80000, 20000, 120000],\n",
    "        'engine_size': [1.6, 2.0, 1.8, 1.4],\n",
    "        'brand': ['Toyota', 'Honda', 'Volkswagen', 'Ford'],\n",
    "        'price': [120000, 90000, 150000, 60000]}"
   ]
  },
  {
   "cell_type": "code",
   "execution_count": 3,
   "id": "62593dd3-e01f-44a2-a348-5ee7e8906a53",
   "metadata": {},
   "outputs": [
    {
     "data": {
      "text/plain": [
       "dict"
      ]
     },
     "execution_count": 3,
     "metadata": {},
     "output_type": "execute_result"
    }
   ],
   "source": [
    "type(data)"
   ]
  },
  {
   "cell_type": "code",
   "execution_count": 4,
   "id": "5ac1abb0-5afd-41a6-a325-0a2a7da6e475",
   "metadata": {},
   "outputs": [],
   "source": [
    "df = pd.DataFrame(data)"
   ]
  },
  {
   "cell_type": "code",
   "execution_count": 5,
   "id": "4067e38c-8745-410d-a269-7fd372b70672",
   "metadata": {},
   "outputs": [
    {
     "data": {
      "text/html": [
       "<div>\n",
       "<style scoped>\n",
       "    .dataframe tbody tr th:only-of-type {\n",
       "        vertical-align: middle;\n",
       "    }\n",
       "\n",
       "    .dataframe tbody tr th {\n",
       "        vertical-align: top;\n",
       "    }\n",
       "\n",
       "    .dataframe thead th {\n",
       "        text-align: right;\n",
       "    }\n",
       "</style>\n",
       "<table border=\"1\" class=\"dataframe\">\n",
       "  <thead>\n",
       "    <tr style=\"text-align: right;\">\n",
       "      <th></th>\n",
       "      <th>year</th>\n",
       "      <th>km</th>\n",
       "      <th>engine_size</th>\n",
       "      <th>brand</th>\n",
       "      <th>price</th>\n",
       "    </tr>\n",
       "  </thead>\n",
       "  <tbody>\n",
       "    <tr>\n",
       "      <th>0</th>\n",
       "      <td>2018</td>\n",
       "      <td>50000</td>\n",
       "      <td>1.6</td>\n",
       "      <td>Toyota</td>\n",
       "      <td>120000</td>\n",
       "    </tr>\n",
       "    <tr>\n",
       "      <th>1</th>\n",
       "      <td>2015</td>\n",
       "      <td>80000</td>\n",
       "      <td>2.0</td>\n",
       "      <td>Honda</td>\n",
       "      <td>90000</td>\n",
       "    </tr>\n",
       "    <tr>\n",
       "      <th>2</th>\n",
       "      <td>2020</td>\n",
       "      <td>20000</td>\n",
       "      <td>1.8</td>\n",
       "      <td>Volkswagen</td>\n",
       "      <td>150000</td>\n",
       "    </tr>\n",
       "    <tr>\n",
       "      <th>3</th>\n",
       "      <td>2012</td>\n",
       "      <td>120000</td>\n",
       "      <td>1.4</td>\n",
       "      <td>Ford</td>\n",
       "      <td>60000</td>\n",
       "    </tr>\n",
       "  </tbody>\n",
       "</table>\n",
       "</div>"
      ],
      "text/plain": [
       "   year      km  engine_size       brand   price\n",
       "0  2018   50000          1.6      Toyota  120000\n",
       "1  2015   80000          2.0       Honda   90000\n",
       "2  2020   20000          1.8  Volkswagen  150000\n",
       "3  2012  120000          1.4        Ford   60000"
      ]
     },
     "execution_count": 5,
     "metadata": {},
     "output_type": "execute_result"
    }
   ],
   "source": [
    "df"
   ]
  },
  {
   "cell_type": "code",
   "execution_count": 6,
   "id": "189f2158-6015-4f7c-9465-087cca632ffa",
   "metadata": {},
   "outputs": [],
   "source": [
    "from sklearn.preprocessing import LabelEncoder"
   ]
  },
  {
   "cell_type": "code",
   "execution_count": 7,
   "id": "a3274d50-5a44-4abf-8063-68ee1cdfb3ad",
   "metadata": {},
   "outputs": [],
   "source": [
    "label_encoder = LabelEncoder()\n",
    "df[\"brand_encoded\"] = label_encoder.fit_transform(df[\"brand\"])"
   ]
  },
  {
   "cell_type": "code",
   "execution_count": 8,
   "id": "a9140719-6025-4b9a-8021-5c4ec0011faa",
   "metadata": {},
   "outputs": [
    {
     "data": {
      "text/html": [
       "<div>\n",
       "<style scoped>\n",
       "    .dataframe tbody tr th:only-of-type {\n",
       "        vertical-align: middle;\n",
       "    }\n",
       "\n",
       "    .dataframe tbody tr th {\n",
       "        vertical-align: top;\n",
       "    }\n",
       "\n",
       "    .dataframe thead th {\n",
       "        text-align: right;\n",
       "    }\n",
       "</style>\n",
       "<table border=\"1\" class=\"dataframe\">\n",
       "  <thead>\n",
       "    <tr style=\"text-align: right;\">\n",
       "      <th></th>\n",
       "      <th>year</th>\n",
       "      <th>km</th>\n",
       "      <th>engine_size</th>\n",
       "      <th>brand</th>\n",
       "      <th>price</th>\n",
       "      <th>brand_encoded</th>\n",
       "    </tr>\n",
       "  </thead>\n",
       "  <tbody>\n",
       "    <tr>\n",
       "      <th>0</th>\n",
       "      <td>2018</td>\n",
       "      <td>50000</td>\n",
       "      <td>1.6</td>\n",
       "      <td>Toyota</td>\n",
       "      <td>120000</td>\n",
       "      <td>2</td>\n",
       "    </tr>\n",
       "    <tr>\n",
       "      <th>1</th>\n",
       "      <td>2015</td>\n",
       "      <td>80000</td>\n",
       "      <td>2.0</td>\n",
       "      <td>Honda</td>\n",
       "      <td>90000</td>\n",
       "      <td>1</td>\n",
       "    </tr>\n",
       "    <tr>\n",
       "      <th>2</th>\n",
       "      <td>2020</td>\n",
       "      <td>20000</td>\n",
       "      <td>1.8</td>\n",
       "      <td>Volkswagen</td>\n",
       "      <td>150000</td>\n",
       "      <td>3</td>\n",
       "    </tr>\n",
       "    <tr>\n",
       "      <th>3</th>\n",
       "      <td>2012</td>\n",
       "      <td>120000</td>\n",
       "      <td>1.4</td>\n",
       "      <td>Ford</td>\n",
       "      <td>60000</td>\n",
       "      <td>0</td>\n",
       "    </tr>\n",
       "  </tbody>\n",
       "</table>\n",
       "</div>"
      ],
      "text/plain": [
       "   year      km  engine_size       brand   price  brand_encoded\n",
       "0  2018   50000          1.6      Toyota  120000              2\n",
       "1  2015   80000          2.0       Honda   90000              1\n",
       "2  2020   20000          1.8  Volkswagen  150000              3\n",
       "3  2012  120000          1.4        Ford   60000              0"
      ]
     },
     "execution_count": 8,
     "metadata": {},
     "output_type": "execute_result"
    }
   ],
   "source": [
    "df"
   ]
  },
  {
   "cell_type": "code",
   "execution_count": 9,
   "id": "c96b2337-3301-4cdc-b268-1748f3649707",
   "metadata": {},
   "outputs": [],
   "source": [
    "X_train = df[[\"year\" , \"km\", \"engine_size\", \"brand_encoded\"]]"
   ]
  },
  {
   "cell_type": "code",
   "execution_count": 10,
   "id": "ef6b1db4-e90e-4ffa-b415-8d7ee8b8008f",
   "metadata": {},
   "outputs": [
    {
     "data": {
      "text/html": [
       "<div>\n",
       "<style scoped>\n",
       "    .dataframe tbody tr th:only-of-type {\n",
       "        vertical-align: middle;\n",
       "    }\n",
       "\n",
       "    .dataframe tbody tr th {\n",
       "        vertical-align: top;\n",
       "    }\n",
       "\n",
       "    .dataframe thead th {\n",
       "        text-align: right;\n",
       "    }\n",
       "</style>\n",
       "<table border=\"1\" class=\"dataframe\">\n",
       "  <thead>\n",
       "    <tr style=\"text-align: right;\">\n",
       "      <th></th>\n",
       "      <th>year</th>\n",
       "      <th>km</th>\n",
       "      <th>engine_size</th>\n",
       "      <th>brand_encoded</th>\n",
       "    </tr>\n",
       "  </thead>\n",
       "  <tbody>\n",
       "    <tr>\n",
       "      <th>0</th>\n",
       "      <td>2018</td>\n",
       "      <td>50000</td>\n",
       "      <td>1.6</td>\n",
       "      <td>2</td>\n",
       "    </tr>\n",
       "    <tr>\n",
       "      <th>1</th>\n",
       "      <td>2015</td>\n",
       "      <td>80000</td>\n",
       "      <td>2.0</td>\n",
       "      <td>1</td>\n",
       "    </tr>\n",
       "    <tr>\n",
       "      <th>2</th>\n",
       "      <td>2020</td>\n",
       "      <td>20000</td>\n",
       "      <td>1.8</td>\n",
       "      <td>3</td>\n",
       "    </tr>\n",
       "    <tr>\n",
       "      <th>3</th>\n",
       "      <td>2012</td>\n",
       "      <td>120000</td>\n",
       "      <td>1.4</td>\n",
       "      <td>0</td>\n",
       "    </tr>\n",
       "  </tbody>\n",
       "</table>\n",
       "</div>"
      ],
      "text/plain": [
       "   year      km  engine_size  brand_encoded\n",
       "0  2018   50000          1.6              2\n",
       "1  2015   80000          2.0              1\n",
       "2  2020   20000          1.8              3\n",
       "3  2012  120000          1.4              0"
      ]
     },
     "execution_count": 10,
     "metadata": {},
     "output_type": "execute_result"
    }
   ],
   "source": [
    "X_train"
   ]
  },
  {
   "cell_type": "code",
   "execution_count": 11,
   "id": "dff0ee32-e14e-4431-942a-28af7da19608",
   "metadata": {},
   "outputs": [],
   "source": [
    "y_train = df[\"price\"]"
   ]
  },
  {
   "cell_type": "code",
   "execution_count": 12,
   "id": "3e7f7514-b521-45d6-b3d9-12c2cd89e0af",
   "metadata": {},
   "outputs": [
    {
     "data": {
      "text/plain": [
       "0    120000\n",
       "1     90000\n",
       "2    150000\n",
       "3     60000\n",
       "Name: price, dtype: int64"
      ]
     },
     "execution_count": 12,
     "metadata": {},
     "output_type": "execute_result"
    }
   ],
   "source": [
    "y_train"
   ]
  },
  {
   "cell_type": "code",
   "execution_count": 13,
   "id": "647232e6-8afb-4a27-808d-f1471ad5575b",
   "metadata": {},
   "outputs": [
    {
     "data": {
      "text/plain": [
       "pandas.core.series.Series"
      ]
     },
     "execution_count": 13,
     "metadata": {},
     "output_type": "execute_result"
    }
   ],
   "source": [
    "type(y_train)"
   ]
  },
  {
   "cell_type": "code",
   "execution_count": 14,
   "id": "50758307-7aae-41a3-af5c-e746b6749cdd",
   "metadata": {},
   "outputs": [
    {
     "data": {
      "text/plain": [
       "pandas.core.frame.DataFrame"
      ]
     },
     "execution_count": 14,
     "metadata": {},
     "output_type": "execute_result"
    }
   ],
   "source": [
    "type(X_train)"
   ]
  },
  {
   "cell_type": "code",
   "execution_count": 15,
   "id": "203ad3b6-28e5-4480-bbdb-9c2ebf0a9414",
   "metadata": {},
   "outputs": [
    {
     "data": {
      "text/html": [
       "<div>\n",
       "<style scoped>\n",
       "    .dataframe tbody tr th:only-of-type {\n",
       "        vertical-align: middle;\n",
       "    }\n",
       "\n",
       "    .dataframe tbody tr th {\n",
       "        vertical-align: top;\n",
       "    }\n",
       "\n",
       "    .dataframe thead th {\n",
       "        text-align: right;\n",
       "    }\n",
       "</style>\n",
       "<table border=\"1\" class=\"dataframe\">\n",
       "  <thead>\n",
       "    <tr style=\"text-align: right;\">\n",
       "      <th></th>\n",
       "      <th>year</th>\n",
       "      <th>km</th>\n",
       "      <th>engine_size</th>\n",
       "      <th>brand_encoded</th>\n",
       "    </tr>\n",
       "  </thead>\n",
       "  <tbody>\n",
       "    <tr>\n",
       "      <th>0</th>\n",
       "      <td>2018</td>\n",
       "      <td>50000</td>\n",
       "      <td>1.6</td>\n",
       "      <td>2</td>\n",
       "    </tr>\n",
       "    <tr>\n",
       "      <th>1</th>\n",
       "      <td>2015</td>\n",
       "      <td>80000</td>\n",
       "      <td>2.0</td>\n",
       "      <td>1</td>\n",
       "    </tr>\n",
       "    <tr>\n",
       "      <th>2</th>\n",
       "      <td>2020</td>\n",
       "      <td>20000</td>\n",
       "      <td>1.8</td>\n",
       "      <td>3</td>\n",
       "    </tr>\n",
       "    <tr>\n",
       "      <th>3</th>\n",
       "      <td>2012</td>\n",
       "      <td>120000</td>\n",
       "      <td>1.4</td>\n",
       "      <td>0</td>\n",
       "    </tr>\n",
       "  </tbody>\n",
       "</table>\n",
       "</div>"
      ],
      "text/plain": [
       "   year      km  engine_size  brand_encoded\n",
       "0  2018   50000          1.6              2\n",
       "1  2015   80000          2.0              1\n",
       "2  2020   20000          1.8              3\n",
       "3  2012  120000          1.4              0"
      ]
     },
     "execution_count": 15,
     "metadata": {},
     "output_type": "execute_result"
    }
   ],
   "source": [
    "X_train"
   ]
  },
  {
   "cell_type": "code",
   "execution_count": 16,
   "id": "06c4f919-43c9-4980-b7e3-f2dddeb59713",
   "metadata": {},
   "outputs": [
    {
     "data": {
      "text/plain": [
       "2.0"
      ]
     },
     "execution_count": 16,
     "metadata": {},
     "output_type": "execute_result"
    }
   ],
   "source": [
    "X_train.iloc[1,2]"
   ]
  },
  {
   "cell_type": "code",
   "execution_count": 17,
   "id": "c91fe7a9-57da-4cdb-94da-d5a2f94dfe65",
   "metadata": {},
   "outputs": [
    {
     "data": {
      "text/plain": [
       "0    120000\n",
       "1     90000\n",
       "2    150000\n",
       "3     60000\n",
       "Name: price, dtype: int64"
      ]
     },
     "execution_count": 17,
     "metadata": {},
     "output_type": "execute_result"
    }
   ],
   "source": [
    "y_train"
   ]
  },
  {
   "cell_type": "code",
   "execution_count": 20,
   "id": "76dc5dd2-f8d1-4764-9329-327bb816e81d",
   "metadata": {},
   "outputs": [],
   "source": [
    "w_init = pd.Series(rd.random() for _ in range(4))"
   ]
  },
  {
   "cell_type": "code",
   "execution_count": 23,
   "id": "af856fee-7e5a-42b5-a585-220b7efa1be3",
   "metadata": {},
   "outputs": [
    {
     "data": {
      "text/plain": [
       "0    0.502563\n",
       "1    0.944471\n",
       "2    0.146687\n",
       "3    0.039060\n",
       "dtype: float64"
      ]
     },
     "execution_count": 23,
     "metadata": {},
     "output_type": "execute_result"
    }
   ],
   "source": [
    "w_init"
   ]
  },
  {
   "cell_type": "code",
   "execution_count": 24,
   "id": "1feca574-0caf-4089-8cd1-d3b8f4b52bed",
   "metadata": {},
   "outputs": [],
   "source": [
    "b_init = 0"
   ]
  },
  {
   "cell_type": "code",
   "execution_count": 25,
   "id": "15bc642b-fd65-467d-8c9d-786c4fa9e958",
   "metadata": {},
   "outputs": [
    {
     "data": {
      "text/plain": [
       "(4,)"
      ]
     },
     "execution_count": 25,
     "metadata": {},
     "output_type": "execute_result"
    }
   ],
   "source": [
    "w_init.shape"
   ]
  },
  {
   "cell_type": "code",
   "execution_count": 26,
   "id": "37f34c31-b5ed-475f-9924-b657998e28ef",
   "metadata": {},
   "outputs": [
    {
     "data": {
      "text/plain": [
       "(4,)"
      ]
     },
     "execution_count": 26,
     "metadata": {},
     "output_type": "execute_result"
    }
   ],
   "source": [
    "X_train.iloc[1].shape"
   ]
  },
  {
   "cell_type": "code",
   "execution_count": 27,
   "id": "996bb0d2-5a99-4723-a388-83b96f386306",
   "metadata": {},
   "outputs": [
    {
     "data": {
      "text/plain": [
       "(4,)"
      ]
     },
     "execution_count": 27,
     "metadata": {},
     "output_type": "execute_result"
    }
   ],
   "source": [
    "y_train.shape"
   ]
  },
  {
   "cell_type": "code",
   "execution_count": 28,
   "id": "8b167e28-a5a0-4e26-8c77-cda0fbd49c3a",
   "metadata": {},
   "outputs": [],
   "source": [
    "### Tahmin Yapma"
   ]
  },
  {
   "cell_type": "code",
   "execution_count": 30,
   "id": "b678fc7e-99c9-4a26-971d-89a7d83a0955",
   "metadata": {},
   "outputs": [],
   "source": [
    "def predict(x, w, b):\n",
    "    return np.dot(x,w) + b"
   ]
  },
  {
   "cell_type": "code",
   "execution_count": 32,
   "id": "03516f3b-c6d0-4f2f-9596-fb13de9bda20",
   "metadata": {},
   "outputs": [],
   "source": [
    "def compute_cost(X_train, y_train, w, b):\n",
    "    m = len(y_train)\n",
    "    cost = 0\n",
    "\n",
    "    for i in range(m):\n",
    "        x_i = X_train.iloc[i]\n",
    "        y_i = y_train.iloc[i]\n",
    "\n",
    "        prediction = predict(x_i, w, b)\n",
    "        error = prediction - y_i\n",
    "        cost += error**2\n",
    "\n",
    "    return cost / (2 * m)"
   ]
  },
  {
   "cell_type": "code",
   "execution_count": 41,
   "id": "6639b8b0-e89a-487b-ae95-8d0a6e8ae7fe",
   "metadata": {},
   "outputs": [],
   "source": [
    "def update_weights(X_train, y_train, w, b, learning_rate):\n",
    " \n",
    "  m = len(y_train)  # training örneklerinin sayısı\n",
    "\n",
    "  \n",
    "  weight_gradients = []\n",
    "  for i in range(m):\n",
    "    x_i = X_train.iloc[i]\n",
    "    y_i = y_train.iloc[i]\n",
    "    prediction = predict(x_i, w, b)\n",
    "    error = prediction - y_i\n",
    "    weight_gradients.append(error * x_i)\n",
    "\n",
    "  # ağırlığı eğim*learning rate i çıkararak updateli yoruz\n",
    "  updated_w = w - learning_rate * np.mean(weight_gradients, axis=0)\n",
    "\n",
    "  # biasın eğimini hesaplıyoruz\n",
    "  bias_gradient = np.mean(prediction - y_train)\n",
    "\n",
    "  # biası updateliyoruz\n",
    "  updated_b = b - learning_rate * bias_gradient\n",
    "\n",
    "  return updated_w, updated_b"
   ]
  },
  {
   "cell_type": "code",
   "execution_count": 45,
   "id": "05ae9cf4-755f-42fb-a310-6998c175b916",
   "metadata": {},
   "outputs": [],
   "source": [
    "learning_rate = 0.01"
   ]
  },
  {
   "cell_type": "code",
   "execution_count": 48,
   "id": "71e9e030-310c-4729-be90-8349b5966d27",
   "metadata": {},
   "outputs": [
    {
     "name": "stdout",
     "output_type": "stream",
     "text": [
      "Final weights: 0    1.936292e+06\n",
      "1    5.059283e+07\n",
      "2    1.666848e+03\n",
      "3    1.869640e+03\n",
      "dtype: float64\n",
      "Final bias: 890.094355444158\n"
     ]
    }
   ],
   "source": [
    "iterations = 1000\n",
    "for i in range(iterations):\n",
    "  # bias ve ağırlıkları updatele\n",
    "  w, b = update_weights(X_train, y_train, w_init, b_init, learning_rate)\n",
    "\n",
    "print(\"Final weights:\", w)\n",
    "print(\"Final bias:\", b)"
   ]
  },
  {
   "cell_type": "code",
   "execution_count": null,
   "id": "1beac813-7b72-4f65-9597-dec810fb47fb",
   "metadata": {},
   "outputs": [],
   "source": []
  }
 ],
 "metadata": {
  "kernelspec": {
   "display_name": "Python 3 (ipykernel)",
   "language": "python",
   "name": "python3"
  },
  "language_info": {
   "codemirror_mode": {
    "name": "ipython",
    "version": 3
   },
   "file_extension": ".py",
   "mimetype": "text/x-python",
   "name": "python",
   "nbconvert_exporter": "python",
   "pygments_lexer": "ipython3",
   "version": "3.11.7"
  }
 },
 "nbformat": 4,
 "nbformat_minor": 5
}
